{
 "cells": [
  {
   "cell_type": "code",
   "execution_count": 1,
   "metadata": {},
   "outputs": [
    {
     "name": "stdout",
     "output_type": "stream",
     "text": [
      "Error Cuadrático Medio: 56.43579072532658\n"
     ]
    }
   ],
   "source": [
    "# Este código demuestra las etapas del desarrollo de modelos predictivos usando regresión lineal.\n",
    "from sklearn.model_selection import train_test_split\n",
    "from sklearn.linear_model import LinearRegression\n",
    "from sklearn.metrics import mean_squared_error\n",
    "import pandas as pd\n",
    "\n",
    "# Datos simulados\n",
    "# Estos datos son simulados para representar una relación entre la superficie de una propiedad y su precio.\n",
    "data = {'Superficie_m2': [50, 60, 70, 80, 90, 100, 110, 120, 130, 140], \n",
    "        'Precio_milUSD': [150, 180, 200, 230, 260, 300, 330, 360, 400, 430]}\n",
    "df = pd.DataFrame(data)\n",
    "\n",
    "# División en conjunto de entrenamiento y prueba\n",
    "X = df[['Superficie_m2']]\n",
    "y = df['Precio_milUSD']\n",
    "X_train, X_test, y_train, y_test = train_test_split(X, y, test_size=0.2, random_state=42)\n",
    "\n",
    "# Entrenamiento del modelo\n",
    "# Esta parte del código realiza el entrenamiento del modelo de regresión lineal.\n",
    "modelo = LinearRegression()\n",
    "modelo.fit(X_train, y_train)\n",
    "\n",
    "# Validación y prueba\n",
    "y_pred = modelo.predict(X_test)\n",
    "\n",
    "# Evaluación\n",
    "error_cuadratico_medio = mean_squared_error(y_test, y_pred)\n",
    "print(f\"Error Cuadrático Medio: {error_cuadratico_medio}\")"
   ]
  }
 ],
 "metadata": {
  "kernelspec": {
   "display_name": "Python 3",
   "language": "python",
   "name": "python3"
  },
  "language_info": {
   "codemirror_mode": {
    "name": "ipython",
    "version": 3
   },
   "file_extension": ".py",
   "mimetype": "text/x-python",
   "name": "python",
   "nbconvert_exporter": "python",
   "pygments_lexer": "ipython3",
   "version": "3.9.6"
  }
 },
 "nbformat": 4,
 "nbformat_minor": 2
}
