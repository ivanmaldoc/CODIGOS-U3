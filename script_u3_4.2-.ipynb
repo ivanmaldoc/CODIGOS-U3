from sklearn.model_selection import cross_val_score

# Aplicar validación cruzada con 5 divisiones (K=5)
scores = cross_val_score(modelo, X_train, y_train, cv=5)

# Mostrar resultados
print(f"Puntajes en cada fold: {scores}")
print(f"Precisión media: {scores.mean():.2f}")
