{
 "cells": [
  {
   "cell_type": "code",
   "execution_count": 1,
   "metadata": {},
   "outputs": [
    {
     "name": "stdout",
     "output_type": "stream",
     "text": [
      "Entrenamiento completado.\n",
      "Puntajes en cada fold: [0.95833333 1.         0.875      1.         0.95833333]\n",
      "Precisión media: 0.96\n",
      "Precisión en datos de prueba: 1.00\n",
      "Reporte de clasificación:\n",
      "               precision    recall  f1-score   support\n",
      "\n",
      "      setosa       1.00      1.00      1.00        10\n",
      "  versicolor       1.00      1.00      1.00         9\n",
      "   virginica       1.00      1.00      1.00        11\n",
      "\n",
      "    accuracy                           1.00        30\n",
      "   macro avg       1.00      1.00      1.00        30\n",
      "weighted avg       1.00      1.00      1.00        30\n",
      "\n"
     ]
    }
   ],
   "source": [
    "from sklearn.model_selection import cross_val_score\n",
    "import numpy as np\n",
    "import pandas as pd\n",
    "from sklearn import datasets\n",
    "from sklearn.model_selection import train_test_split\n",
    "from sklearn.preprocessing import StandardScaler\n",
    "from sklearn.linear_model import LogisticRegression\n",
    "\n",
    "# Cargar el dataset Iris\n",
    "iris = datasets.load_iris()\n",
    "X = iris.data  # Características\n",
    "y = iris.target  # Etiquetas\n",
    "\n",
    "# Dividir datos en entrenamiento (80%) y prueba (20%)\n",
    "X_train, X_test, y_train, y_test = train_test_split(X, y, test_size=0.2, random_state=42)\n",
    "\n",
    "# Normalizar los datos\n",
    "scaler = StandardScaler()\n",
    "X_train = scaler.fit_transform(X_train)\n",
    "\n",
    "# Crear y entrenar el modelo\n",
    "modelo = LogisticRegression()\n",
    "modelo.fit(X_train, y_train)\n",
    "\n",
    "print(\"Entrenamiento completado.\")\n",
    "\n",
    "# Aplicar validación cruzada con 5 divisiones (K=5)\n",
    "scores = cross_val_score(modelo, X_train, y_train, cv=5)\n",
    "\n",
    "# Mostrar resultados\n",
    "print(f\"Puntajes en cada fold: {scores}\")\n",
    "print(f\"Precisión media: {scores.mean():.2f}\")\n",
    "\n",
    "from sklearn.metrics import accuracy_score, classification_report\n",
    "\n",
    "# Normalizar los datos de prueba\n",
    "X_test = scaler.transform(X_test)\n",
    "\n",
    "# Hacer predicciones en el conjunto de prueba\n",
    "y_pred = modelo.predict(X_test)\n",
    "\n",
    "# Calcular precisión\n",
    "precision = accuracy_score(y_test, y_pred)\n",
    "print(f\"Precisión en datos de prueba: {precision:.2f}\")\n",
    "\n",
    "# Reporte detallado de métricas\n",
    "print(\"Reporte de clasificación:\\n\", classification_report(y_test, y_pred, target_names=iris.target_names))\n"
   ]
  }
 ],
 "metadata": {
  "kernelspec": {
   "display_name": "Python 3",
   "language": "python",
   "name": "python3"
  },
  "language_info": {
   "codemirror_mode": {
    "name": "ipython",
    "version": 3
   },
   "file_extension": ".py",
   "mimetype": "text/x-python",
   "name": "python",
   "nbconvert_exporter": "python",
   "pygments_lexer": "ipython3",
   "version": "3.9.6"
  }
 },
 "nbformat": 4,
 "nbformat_minor": 2
}
