{
 "cells": [
  {
   "cell_type": "code",
   "execution_count": 3,
   "metadata": {},
   "outputs": [
    {
     "name": "stdout",
     "output_type": "stream",
     "text": [
      "Precisión en Entrenamiento vs Prueba:\n",
      "Subajuste (Profundidad=1) -> Entrenamiento: 0.68, Prueba: 0.63\n",
      "Balanceado (Profundidad=4) -> Entrenamiento: 0.97, Prueba: 1.00\n",
      "Sobreajuste (Profundidad=20) -> Entrenamiento: 1.00, Prueba: 1.00\n"
     ]
    }
   ],
   "source": [
    "import numpy as np\n",
    "import pandas as pd\n",
    "import matplotlib.pyplot as plt\n",
    "from sklearn import datasets\n",
    "from sklearn.model_selection import train_test_split\n",
    "from sklearn.tree import DecisionTreeClassifier\n",
    "from sklearn.metrics import accuracy_score\n",
    "\n",
    "# Cargar el dataset Iris\n",
    "iris = datasets.load_iris()\n",
    "X = iris.data  # Características\n",
    "y = iris.target  # Etiquetas\n",
    "\n",
    "# Dividir datos en entrenamiento (80%) y prueba (20%)\n",
    "X_train, X_test, y_train, y_test = train_test_split(X, y, test_size=0.2, random_state=42)\n",
    "\n",
    "# Modelo con subajuste (muy simple)\n",
    "arbol_subajuste = DecisionTreeClassifier(max_depth=1, random_state=42)\n",
    "arbol_subajuste.fit(X_train, y_train)\n",
    "\n",
    "# Modelo con ajuste ideal (balanceado)\n",
    "arbol_balanceado = DecisionTreeClassifier(max_depth=4, random_state=42)\n",
    "arbol_balanceado.fit(X_train, y_train)\n",
    "\n",
    "# Modelo con sobreajuste (muy complejo)\n",
    "arbol_sobreajuste = DecisionTreeClassifier(max_depth=20, random_state=42)\n",
    "arbol_sobreajuste.fit(X_train, y_train)\n",
    "\n",
    "# Evaluación en entrenamiento\n",
    "train_acc_subajuste = accuracy_score(y_train, arbol_subajuste.predict(X_train))\n",
    "train_acc_balanceado = accuracy_score(y_train, arbol_balanceado.predict(X_train))\n",
    "train_acc_sobreajuste = accuracy_score(y_train, arbol_sobreajuste.predict(X_train))\n",
    "\n",
    "# Evaluación en prueba\n",
    "test_acc_subajuste = accuracy_score(y_test, arbol_subajuste.predict(X_test))\n",
    "test_acc_balanceado = accuracy_score(y_test, arbol_balanceado.predict(X_test))\n",
    "test_acc_sobreajuste = accuracy_score(y_test, arbol_sobreajuste.predict(X_test))\n",
    "\n",
    "# Imprimir resultados\n",
    "print(\"Precisión en Entrenamiento vs Prueba:\")\n",
    "print(f\"Subajuste (Profundidad=1) -> Entrenamiento: {train_acc_subajuste:.2f}, Prueba: {test_acc_subajuste:.2f}\")\n",
    "print(f\"Balanceado (Profundidad=4) -> Entrenamiento: {train_acc_balanceado:.2f}, Prueba: {test_acc_balanceado:.2f}\")\n",
    "print(f\"Sobreajuste (Profundidad=20) -> Entrenamiento: {train_acc_sobreajuste:.2f}, Prueba: {test_acc_sobreajuste:.2f}\")\n"
   ]
  }
 ],
 "metadata": {
  "kernelspec": {
   "display_name": "Python 3",
   "language": "python",
   "name": "python3"
  },
  "language_info": {
   "codemirror_mode": {
    "name": "ipython",
    "version": 3
   },
   "file_extension": ".py",
   "mimetype": "text/x-python",
   "name": "python",
   "nbconvert_exporter": "python",
   "pygments_lexer": "ipython3",
   "version": "3.9.6"
  }
 },
 "nbformat": 4,
 "nbformat_minor": 2
}
